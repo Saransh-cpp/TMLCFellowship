{
 "cells": [
  {
   "cell_type": "markdown",
   "id": "compound-feeling",
   "metadata": {},
   "source": [
    "# The Machine Leaning Company Fellowship task\n",
    "\n",
    "Problem statement (Multiclass Image Classification)-\n",
    "\n",
    "Train any neural network of your choice on 102 flowers dataset. Prepare an in-depth notebook on the same. Explain each and every step in suitable words. Unique approach will carry more marks.\n",
    "\n",
    "## The data\n",
    "\n",
    "The training data, as provided in the mail, is available in `./oxford-102-flowers/train.txt` file.\n",
    "\n",
    "The cross-validation data, as provided in the mail, is available in `./oxford-102-flowers/valid.txt` file.\n",
    "\n",
    "The testing data, as provided in the mail, is available in `./oxford-102-flowers/train.txt` file.\n",
    "\n",
    "## A brief summary\n",
    "\n",
    "We will be exploring convulation neural networks in this notebook. The networks will consist of some convulation layers, followed by max pooling layers which will be fully connected to an artificial neural network layer.\n",
    "\n"
   ]
  },
  {
   "cell_type": "markdown",
   "id": "forced-james",
   "metadata": {},
   "source": [
    "## Starting up\n",
    "\n",
    "We start by importing all the necessary modules and making sure that `tensorflow` uses GPU."
   ]
  },
  {
   "cell_type": "code",
   "execution_count": 1,
   "id": "useful-sudan",
   "metadata": {},
   "outputs": [],
   "source": [
    "import cv2\n",
    "import numpy as np\n",
    "from PIL import Image\n",
    "import tensorflow as tf\n",
    "from tensorflow import keras\n",
    "from tensorflow.keras import layers\n",
    "from tensorflow.keras.models import Sequential\n",
    "import matplotlib.pyplot as plt\n",
    "\n",
    "# using GPU\n",
    "physical_devices = tf.config.list_physical_devices(\"GPU\")\n",
    "tf.config.experimental.set_memory_growth(physical_devices[0], True)"
   ]
  },
  {
   "cell_type": "markdown",
   "id": "vocational-crack",
   "metadata": {},
   "source": [
    "## Reading the text files\n",
    "\n",
    "Next we read the text files and extract the data in a python readable format."
   ]
  },
  {
   "cell_type": "code",
   "execution_count": 2,
   "id": "after-fireplace",
   "metadata": {},
   "outputs": [],
   "source": [
    "def read_file_for_data(path):\n",
    "    \"\"\"\n",
    "    Reads a text file and returns the data with corresponding image path and label.\n",
    "    \n",
    "    Parameters\n",
    "    ----------\n",
    "    path : str\n",
    "        Path of the text file.\n",
    "        \n",
    "    Returns\n",
    "    -------\n",
    "    data : list\n",
    "        Extracted data of the form -\n",
    "        [\n",
    "            ['path/to/image/1', 'label'],\n",
    "            ['path/to/image/2', 'label'],\n",
    "            ['path/to/image/3', 'label']\n",
    "        ]\n",
    "    \"\"\"\n",
    "    with open(path) as f:\n",
    "        text = f.readlines()\n",
    "        text = [line.replace(\"\\n\", \"\") for line in text]\n",
    "        data = np.array([line.split() for line in text])\n",
    "    return data"
   ]
  },
  {
   "cell_type": "markdown",
   "id": "dynamic-fraction",
   "metadata": {},
   "source": [
    "Now we extract all the data one by one. Here I decided to exchange train and test data as the test data had around 6100 entries whereas the train data had only around 1000 entries. I did try using the train dataset for training but due to the low amount of data points, the model was performing very poorly.\n"
   ]
  },
  {
   "cell_type": "code",
   "execution_count": 3,
   "id": "interpreted-crisis",
   "metadata": {},
   "outputs": [
    {
     "data": {
      "text/plain": [
       "array([['jpg/image_03860.jpg', '16'],\n",
       "       ['jpg/image_06092.jpg', '13'],\n",
       "       ['jpg/image_02400.jpg', '42'],\n",
       "       ['jpg/image_02852.jpg', '55'],\n",
       "       ['jpg/image_07710.jpg', '96']], dtype='<U19')"
      ]
     },
     "execution_count": 3,
     "metadata": {},
     "output_type": "execute_result"
    }
   ],
   "source": [
    "test_dataset = read_file_for_data(\"./oxford-102-flowers/train.txt\")\n",
    "test_dataset[:5]"
   ]
  },
  {
   "cell_type": "code",
   "execution_count": 4,
   "id": "actual-creator",
   "metadata": {},
   "outputs": [
    {
     "data": {
      "text/plain": [
       "array([['jpg/image_04467.jpg', '89'],\n",
       "       ['jpg/image_07129.jpg', '44'],\n",
       "       ['jpg/image_05166.jpg', '4'],\n",
       "       ['jpg/image_07002.jpg', '34'],\n",
       "       ['jpg/image_02007.jpg', '79']], dtype='<U19')"
      ]
     },
     "execution_count": 4,
     "metadata": {},
     "output_type": "execute_result"
    }
   ],
   "source": [
    "cross_valid_dataset = read_file_for_data(\"./oxford-102-flowers/valid.txt\")\n",
    "cross_valid_dataset[:5]"
   ]
  },
  {
   "cell_type": "code",
   "execution_count": 5,
   "id": "dated-candle",
   "metadata": {},
   "outputs": [
    {
     "data": {
      "text/plain": [
       "array([['jpg/image_06977.jpg', '34'],\n",
       "       ['jpg/image_00800.jpg', '80'],\n",
       "       ['jpg/image_05038.jpg', '58'],\n",
       "       ['jpg/image_06759.jpg', '0'],\n",
       "       ['jpg/image_01133.jpg', '45']], dtype='<U19')"
      ]
     },
     "execution_count": 5,
     "metadata": {},
     "output_type": "execute_result"
    }
   ],
   "source": [
    "train_dataset = read_file_for_data(\"./oxford-102-flowers/test.txt\")\n",
    "train_dataset[:5]"
   ]
  },
  {
   "cell_type": "markdown",
   "id": "powerful-vault",
   "metadata": {},
   "source": [
    "## Pre-processing the data\n",
    "\n",
    "Now we have the data, but not in an ideal format. We would like to have something like this -\n",
    "```py\n",
    "features = [\n",
    "    numpy_image_1,\n",
    "    numpy_image_2\n",
    "    .\n",
    "    .\n",
    "]\n",
    "\n",
    "labels = [\n",
    "    label1,\n",
    "    label2\n",
    "    .\n",
    "    .\n",
    "]\n",
    "```\n",
    "\n",
    "To achieve this, we process the list of dataset obtained above using a function -\n",
    "1. For the images, we will read a single image as a numpy array, resize it, and then will normalise the features.\n",
    "2. For the labels, we will convert the `str` labels to `int` type."
   ]
  },
  {
   "cell_type": "code",
   "execution_count": 6,
   "id": "honey-chain",
   "metadata": {},
   "outputs": [],
   "source": [
    "def generate_features_and_labels(dataset):\n",
    "    \"\"\"\n",
    "    Generates features and labels from a list of data.\n",
    "    \n",
    "    Parameters\n",
    "    ----------\n",
    "    dataset : list\n",
    "        Of the form -\n",
    "        [\n",
    "            ['path/to/image/1', 'label'],\n",
    "            ['path/to/image/2', 'label'],\n",
    "            ['path/to/image/3', 'label']\n",
    "        ]\n",
    "        \n",
    "    Returns\n",
    "    -------\n",
    "        features : np.ndarray\n",
    "            Of the form -\n",
    "                [\n",
    "                    numpy_image_1,\n",
    "                    numpy_image_2\n",
    "                    .\n",
    "                    .\n",
    "                ]\n",
    "        labels : np.ndarray\n",
    "            Of the form -\n",
    "                [\n",
    "                    label1,\n",
    "                    label2\n",
    "                    .\n",
    "                    .\n",
    "                ]\n",
    "         \n",
    "    \"\"\"\n",
    "    \n",
    "    # extract all the image paths\n",
    "    images = np.array(dataset[:, 0])\n",
    "    features = []\n",
    "\n",
    "    # loop through the image paths\n",
    "    for image in images:\n",
    "        \n",
    "        # read an image as a numpy array\n",
    "        img = cv2.imread(f\"./oxford-102-flowers/{image}\")\n",
    "        #resize the image into 64X64\n",
    "        img = cv2.resize(img, (64, 64))\n",
    "        # append the image\n",
    "        features.append(img)\n",
    "\n",
    "    # convert features to a numpy array\n",
    "    features = np.array(features)\n",
    "    # normalise features\n",
    "    features = features / 255.0\n",
    "    \n",
    "    # taking labels from the dataset\n",
    "    labels = np.array([int(x) for x in dataset[:, 1]])\n",
    "\n",
    "    return features, labels"
   ]
  },
  {
   "cell_type": "markdown",
   "id": "static-nightlife",
   "metadata": {},
   "source": [
    "Now we are ready to generate the features and the corresponding labels. For the training dataset we do this in parts, as my laptop was not able to process more than 1000 images in a single loop or in a nested loop.\n",
    "\n",
    "### Training dataset"
   ]
  },
  {
   "cell_type": "code",
   "execution_count": 7,
   "id": "resident-nirvana",
   "metadata": {},
   "outputs": [],
   "source": [
    "x_train, y_train = generate_features_and_labels(train_dataset[:1000])"
   ]
  },
  {
   "cell_type": "code",
   "execution_count": 8,
   "id": "efficient-flush",
   "metadata": {},
   "outputs": [],
   "source": [
    "x, y = generate_features_and_labels(train_dataset[1000:2000])\n",
    "x_train = np.concatenate((x_train, x))\n",
    "y_train = np.concatenate((y_train, y))"
   ]
  },
  {
   "cell_type": "code",
   "execution_count": 9,
   "id": "future-consciousness",
   "metadata": {},
   "outputs": [],
   "source": [
    "x, y = generate_features_and_labels(train_dataset[2000:3000])\n",
    "x_train = np.concatenate((x_train, x))\n",
    "y_train = np.concatenate((y_train, y))"
   ]
  },
  {
   "cell_type": "code",
   "execution_count": 10,
   "id": "incident-cleaner",
   "metadata": {},
   "outputs": [],
   "source": [
    "x, y = generate_features_and_labels(train_dataset[3000:4000])\n",
    "x_train = np.concatenate((x_train, x))\n",
    "y_train = np.concatenate((y_train, y))"
   ]
  },
  {
   "cell_type": "code",
   "execution_count": 11,
   "id": "corrected-seeker",
   "metadata": {},
   "outputs": [],
   "source": [
    "x, y = generate_features_and_labels(train_dataset[4000:5000])\n",
    "x_train = np.concatenate((x_train, x))\n",
    "y_train = np.concatenate((y_train, y))"
   ]
  },
  {
   "cell_type": "code",
   "execution_count": 12,
   "id": "single-marking",
   "metadata": {},
   "outputs": [],
   "source": [
    "x, y = generate_features_and_labels(train_dataset[5000:6000])\n",
    "x_train = np.concatenate((x_train, x))\n",
    "y_train = np.concatenate((y_train, y))"
   ]
  },
  {
   "cell_type": "code",
   "execution_count": 13,
   "id": "hollywood-stretch",
   "metadata": {},
   "outputs": [],
   "source": [
    "x, y = generate_features_and_labels(train_dataset[6000:])\n",
    "x_train = np.concatenate((x_train, x))\n",
    "y_train = np.concatenate((y_train, y))"
   ]
  },
  {
   "cell_type": "markdown",
   "id": "final-tourist",
   "metadata": {},
   "source": [
    "### Visualising the training dataset\n",
    "\n",
    "One can see that the training dataset is not uniform."
   ]
  },
  {
   "cell_type": "code",
   "execution_count": 14,
   "id": "overall-training",
   "metadata": {},
   "outputs": [
    {
     "data": {
      "image/png": "[encoded data removed]",
      "text/plain": [
       "<Figure size 432x288 with 1 Axes>"
      ]
     },
     "metadata": {
      "needs_background": "light"
     },
     "output_type": "display_data"
    }
   ],
   "source": [
    "plt.hist(y_train, bins=[x for x in range(0, 103)])\n",
    "plt.show()"
   ]
  },
  {
   "cell_type": "markdown",
   "id": "inside-bryan",
   "metadata": {},
   "source": [
    "### Testing dataset"
   ]
  },
  {
   "cell_type": "code",
   "execution_count": 15,
   "id": "dental-retirement",
   "metadata": {},
   "outputs": [],
   "source": [
    "x_test, y_test = generate_features_and_labels(test_dataset)"
   ]
  },
  {
   "cell_type": "markdown",
   "id": "anticipated-adobe",
   "metadata": {},
   "source": [
    "### Visualising testing dataset\n",
    "\n",
    "The testing dataset is uniform."
   ]
  },
  {
   "cell_type": "code",
   "execution_count": 16,
   "id": "grave-trigger",
   "metadata": {},
   "outputs": [
    {
     "data": {
      "image/png": "[encoded data removed]",
      "text/plain": [
       "<Figure size 432x288 with 1 Axes>"
      ]
     },
     "metadata": {
      "needs_background": "light"
     },
     "output_type": "display_data"
    }
   ],
   "source": [
    "plt.hist(y_test, bins=[x for x in range(0, 103)])\n",
    "plt.show()"
   ]
  },
  {
   "cell_type": "markdown",
   "id": "retained-juice",
   "metadata": {},
   "source": [
    "### Cross-validation dataset"
   ]
  },
  {
   "cell_type": "code",
   "execution_count": 17,
   "id": "developing-monroe",
   "metadata": {},
   "outputs": [],
   "source": [
    "x_cross_valid, y_cross_valid = generate_features_and_labels(cross_valid_dataset)"
   ]
  },
  {
   "cell_type": "markdown",
   "id": "colored-broad",
   "metadata": {},
   "source": [
    "### Visualising Cross-validation dataset\n",
    "\n",
    "The cross-validation dataset is uniform."
   ]
  },
  {
   "cell_type": "code",
   "execution_count": 18,
   "id": "exempt-inspiration",
   "metadata": {},
   "outputs": [
    {
     "data": {
      "image/png": "[encoded data removed]",
      "text/plain": [
       "<Figure size 432x288 with 1 Axes>"
      ]
     },
     "metadata": {
      "needs_background": "light"
     },
     "output_type": "display_data"
    }
   ],
   "source": [
    "plt.hist(y_cross_valid, bins=[x for x in range(0, 103)])\n",
    "plt.show()"
   ]
  },
  {
   "cell_type": "markdown",
   "id": "polar-stake",
   "metadata": {},
   "source": [
    "Looking at an image from the normalised training dataset."
   ]
  },
  {
   "cell_type": "code",
   "execution_count": 19,
   "id": "arabic-white",
   "metadata": {},
   "outputs": [
    {
     "data": {
      "text/plain": [
       "<matplotlib.image.AxesImage at 0x23490429820>"
      ]
     },
     "execution_count": 19,
     "metadata": {},
     "output_type": "execute_result"
    },
    {
     "data": {
      "image/png": "[encoded data removed]",
      "text/plain": [
       "<Figure size 288x288 with 1 Axes>"
      ]
     },
     "metadata": {
      "needs_background": "light"
     },
     "output_type": "display_data"
    }
   ],
   "source": [
    "plt.matshow(x_train[5])"
   ]
  },
  {
   "cell_type": "code",
   "execution_count": 20,
   "id": "geographic-platform",
   "metadata": {},
   "outputs": [
    {
     "data": {
      "text/plain": [
       "(6149, 1020, 1020)"
      ]
     },
     "execution_count": 20,
     "metadata": {},
     "output_type": "execute_result"
    }
   ],
   "source": [
    "len(x_train), len(x_test), len(x_cross_valid)"
   ]
  },
  {
   "cell_type": "markdown",
   "id": "developing-allocation",
   "metadata": {},
   "source": [
    "## Building the first model\n",
    "\n",
    "We now have the data that our model will be training on, so we can proceed ahead to build a quick and a dirty model on which we will be working on throughout this notebook.\n",
    "\n",
    "1. For the first model, let us take 3 convulation layers, each followed by a max pooling layer, with a fully connected layer of neurons at the end of the convulation structure.\n",
    "2. For all the layers, we will be using the `relu` activation function and for the output layer, we will be using the `softmax` activation function.\n",
    "3. We will also be using the `same` padding to keep the dimensions of the image same throughout the convulation layers, and to also include the pixels at edge in more convulation operations."
   ]
  },
  {
   "cell_type": "code",
   "execution_count": 21,
   "id": "collective-former",
   "metadata": {},
   "outputs": [],
   "source": [
    "dirty_model = Sequential([\n",
    "    # a convulation layer with 8 3X3 filters, relu activation and same padding followed by a max pooling layer\n",
    "    layers.Conv2D(filters=8, kernel_size=(3, 3), activation='relu', padding='same'),\n",
    "    layers.MaxPooling2D(),\n",
    "    \n",
    "    # a convulation layer with 8 3X3 filters, relu activation and same padding followed by a max pooling layer\n",
    "    layers.Conv2D(filters=8, kernel_size=(3, 3), activation='relu', padding='same'),\n",
    "    layers.MaxPooling2D(),\n",
    "    \n",
    "    # a convulation layer with 8 3X3 filters, relu activation and same padding followed by a max pooling layer\n",
    "    layers.Conv2D(filters=8, kernel_size=(3, 3), activation='relu', padding='same'),\n",
    "    layers.MaxPooling2D(),\n",
    "    \n",
    "    # flattening the obtained array for ANN\n",
    "    layers.Flatten(),\n",
    "    \n",
    "    # a dense neural network layer with 256 neurons and relu activation\n",
    "    layers.Dense(256, activation='relu'),\n",
    "    \n",
    "    # a dense output layer with 102 neurons (for 102 classes) and softmax activation\n",
    "    layers.Dense(102, activation=\"softmax\")\n",
    "])"
   ]
  },
  {
   "cell_type": "markdown",
   "id": "beautiful-representative",
   "metadata": {},
   "source": [
    "Let us compile our dirty model with `adam` optimizer, `SparseCategoricalCrossentropy` loss function (as our labels are not one hot encoded) and \"accuracy\" as a metric."
   ]
  },
  {
   "cell_type": "code",
   "execution_count": 22,
   "id": "geographic-lying",
   "metadata": {},
   "outputs": [],
   "source": [
    "dirty_model.compile(\n",
    "    optimizer=keras.optimizers.Adam(),\n",
    "    loss=keras.losses.SparseCategoricalCrossentropy(),\n",
    "    metrics=['accuracy']\n",
    ")"
   ]
  },
  {
   "cell_type": "markdown",
   "id": "communist-marshall",
   "metadata": {},
   "source": [
    "Now let us try to fit our training data and let us run it for 100 epochs with a batch size of 100."
   ]
  },
  {
   "cell_type": "code",
   "execution_count": 23,
   "id": "asian-insulin",
   "metadata": {
    "tags": [
     "outputPrepend"
    ]
   },
   "outputs": [
    {
     "name": "stdout",
     "output_type": "stream",
     "text": [
      "Epoch 1/100\n",
      "62/62 [==============================] - 7s 17ms/step - loss: 4.4231 - accuracy: 0.0481\n",
      "Epoch 2/100\n",
      "62/62 [==============================] - 1s 15ms/step - loss: 3.9253 - accuracy: 0.1078\n",
      "Epoch 3/100\n",
      "62/62 [==============================] - 1s 15ms/step - loss: 3.3245 - accuracy: 0.1969\n",
      "Epoch 4/100\n",
      "62/62 [==============================] - 1s 14ms/step - loss: 2.8715 - accuracy: 0.2721\n",
      "Epoch 5/100\n",
      "62/62 [==============================] - 1s 14ms/step - loss: 2.5499 - accuracy: 0.3518\n",
      "Epoch 6/100\n",
      "62/62 [==============================] - 1s 14ms/step - loss: 2.3037 - accuracy: 0.4032\n",
      "Epoch 7/100\n",
      "62/62 [==============================] - 1s 14ms/step - loss: 2.0898 - accuracy: 0.4490\n",
      "Epoch 8/100\n",
      "62/62 [==============================] - 1s 14ms/step - loss: 1.8846 - accuracy: 0.4923\n",
      "Epoch 9/100\n",
      "62/62 [==============================] - 1s 14ms/step - loss: 1.7378 - accuracy: 0.5311\n",
      "Epoch 10/100\n",
      "62/62 [==============================] - 1s 14ms/step - loss: 1.5567 - accuracy: 0.5702\n",
      "Epoch 11/100\n",
      "62/62 [==============================] - 1s 14ms/step - loss: 1.3923 - accuracy: 0.6146\n",
      "Epoch 12/100\n",
      "62/62 [==============================] - 1s 14ms/step - loss: 1.2253 - accuracy: 0.6627\n",
      "Epoch 13/100\n",
      "62/62 [==============================] - 1s 14ms/step - loss: 1.0955 - accuracy: 0.6926\n",
      "Epoch 14/100\n",
      "62/62 [==============================] - 1s 14ms/step - loss: 0.9934 - accuracy: 0.7172\n",
      "Epoch 15/100\n",
      "62/62 [==============================] - 1s 14ms/step - loss: 0.8691 - accuracy: 0.7526\n",
      "Epoch 16/100\n",
      "62/62 [==============================] - 1s 14ms/step - loss: 0.7642 - accuracy: 0.7809\n",
      "Epoch 17/100\n",
      "62/62 [==============================] - 1s 14ms/step - loss: 0.6211 - accuracy: 0.8226\n",
      "Epoch 18/100\n",
      "62/62 [==============================] - 1s 14ms/step - loss: 0.5473 - accuracy: 0.8427\n",
      "Epoch 19/100\n",
      "62/62 [==============================] - 1s 14ms/step - loss: 0.4407 - accuracy: 0.8805\n",
      "Epoch 20/100\n",
      "62/62 [==============================] - 1s 14ms/step - loss: 0.3835 - accuracy: 0.8974\n",
      "Epoch 21/100\n",
      "62/62 [==============================] - 1s 14ms/step - loss: 0.3137 - accuracy: 0.9143\n",
      "Epoch 22/100\n",
      "62/62 [==============================] - 1s 14ms/step - loss: 0.2345 - accuracy: 0.9462\n",
      "Epoch 23/100\n",
      "62/62 [==============================] - 1s 14ms/step - loss: 0.1714 - accuracy: 0.9655\n",
      "Epoch 24/100\n",
      "62/62 [==============================] - 1s 14ms/step - loss: 0.1981 - accuracy: 0.9517\n",
      "Epoch 25/100\n",
      "62/62 [==============================] - 1s 14ms/step - loss: 0.1498 - accuracy: 0.9658\n",
      "Epoch 26/100\n",
      "62/62 [==============================] - 1s 14ms/step - loss: 0.1199 - accuracy: 0.9756\n",
      "Epoch 27/100\n",
      "62/62 [==============================] - 1s 14ms/step - loss: 0.1027 - accuracy: 0.9782\n",
      "Epoch 28/100\n",
      "62/62 [==============================] - 1s 15ms/step - loss: 0.0681 - accuracy: 0.9914\n",
      "Epoch 29/100\n",
      "62/62 [==============================] - 1s 14ms/step - loss: 0.0518 - accuracy: 0.9948\n",
      "Epoch 30/100\n",
      "62/62 [==============================] - 1s 14ms/step - loss: 0.0368 - accuracy: 0.9964\n",
      "Epoch 31/100\n",
      "62/62 [==============================] - 1s 14ms/step - loss: 0.0200 - accuracy: 0.9997\n",
      "Epoch 32/100\n",
      "62/62 [==============================] - 1s 14ms/step - loss: 0.0128 - accuracy: 0.9998\n",
      "Epoch 33/100\n",
      "62/62 [==============================] - 1s 14ms/step - loss: 0.0113 - accuracy: 0.9995\n",
      "Epoch 34/100\n",
      "62/62 [==============================] - 1s 14ms/step - loss: 0.0093 - accuracy: 0.9998\n",
      "Epoch 35/100\n",
      "62/62 [==============================] - 1s 15ms/step - loss: 0.0105 - accuracy: 0.9997\n",
      "Epoch 36/100\n",
      "62/62 [==============================] - 1s 15ms/step - loss: 0.0079 - accuracy: 0.9998\n",
      "Epoch 37/100\n",
      "62/62 [==============================] - 1s 14ms/step - loss: 0.0106 - accuracy: 0.9997\n",
      "Epoch 38/100\n",
      "62/62 [==============================] - 1s 14ms/step - loss: 0.0218 - accuracy: 0.9972\n",
      "Epoch 39/100\n",
      "62/62 [==============================] - 1s 14ms/step - loss: 0.0109 - accuracy: 0.9995\n",
      "Epoch 40/100\n",
      "62/62 [==============================] - 1s 14ms/step - loss: 0.0126 - accuracy: 0.9990\n",
      "Epoch 41/100\n",
      "62/62 [==============================] - 1s 15ms/step - loss: 0.0093 - accuracy: 0.9997\n",
      "Epoch 42/100\n",
      "62/62 [==============================] - 1s 15ms/step - loss: 0.0113 - accuracy: 0.9992\n",
      "Epoch 43/100\n",
      "62/62 [==============================] - 1s 14ms/step - loss: 0.0176 - accuracy: 0.9982\n",
      "Epoch 44/100\n",
      "62/62 [==============================] - 1s 15ms/step - loss: 0.0450 - accuracy: 0.9904\n",
      "Epoch 45/100\n",
      "62/62 [==============================] - 1s 14ms/step - loss: 0.4829 - accuracy: 0.8544\n",
      "Epoch 46/100\n",
      "62/62 [==============================] - 1s 15ms/step - loss: 0.3548 - accuracy: 0.8839\n",
      "Epoch 47/100\n",
      "62/62 [==============================] - 1s 15ms/step - loss: 0.1544 - accuracy: 0.9502\n",
      "Epoch 48/100\n",
      "62/62 [==============================] - 1s 15ms/step - loss: 0.0555 - accuracy: 0.9867\n",
      "Epoch 49/100\n",
      "62/62 [==============================] - 1s 14ms/step - loss: 0.0329 - accuracy: 0.9932\n",
      "Epoch 50/100\n",
      "62/62 [==============================] - 1s 14ms/step - loss: 0.0124 - accuracy: 0.9990\n",
      "Epoch 51/100\n",
      "62/62 [==============================] - 1s 15ms/step - loss: 0.0050 - accuracy: 0.9998\n",
      "Epoch 52/100\n",
      "62/62 [==============================] - 1s 15ms/step - loss: 0.0053 - accuracy: 0.9997\n",
      "Epoch 53/100\n",
      "62/62 [==============================] - 1s 15ms/step - loss: 0.0036 - accuracy: 0.9998\n",
      "Epoch 54/100\n",
      "62/62 [==============================] - 1s 15ms/step - loss: 0.0034 - accuracy: 0.9998\n",
      "Epoch 55/100\n",
      "62/62 [==============================] - 1s 14ms/step - loss: 0.0039 - accuracy: 0.9998\n",
      "Epoch 56/100\n",
      "62/62 [==============================] - 1s 15ms/step - loss: 0.0034 - accuracy: 0.9998\n",
      "Epoch 57/100\n",
      "62/62 [==============================] - 1s 15ms/step - loss: 0.0038 - accuracy: 0.9998 0s - loss: 0.0024 \n",
      "Epoch 58/100\n",
      "62/62 [==============================] - 1s 14ms/step - loss: 0.0034 - accuracy: 0.9998\n",
      "Epoch 59/100\n",
      "62/62 [==============================] - 1s 15ms/step - loss: 0.0041 - accuracy: 0.9997\n",
      "Epoch 60/100\n",
      "62/62 [==============================] - 1s 14ms/step - loss: 0.0045 - accuracy: 0.9997\n",
      "Epoch 61/100\n",
      "62/62 [==============================] - 1s 14ms/step - loss: 0.0051 - accuracy: 0.9997\n",
      "Epoch 62/100\n",
      "62/62 [==============================] - 1s 14ms/step - loss: 0.0034 - accuracy: 0.9998\n",
      "Epoch 63/100\n",
      "62/62 [==============================] - 1s 14ms/step - loss: 0.0029 - accuracy: 0.9997\n",
      "Epoch 64/100\n",
      "62/62 [==============================] - 1s 15ms/step - loss: 0.0044 - accuracy: 0.9997 0s - loss: 0.0028 - accu\n",
      "Epoch 65/100\n",
      "62/62 [==============================] - 1s 15ms/step - loss: 0.0071 - accuracy: 0.9995\n",
      "Epoch 66/100\n",
      "62/62 [==============================] - 1s 15ms/step - loss: 0.0047 - accuracy: 0.9997\n",
      "Epoch 67/100\n",
      "62/62 [==============================] - 1s 15ms/step - loss: 0.0041 - accuracy: 0.9997\n",
      "Epoch 68/100\n",
      "62/62 [==============================] - 1s 15ms/step - loss: 0.0016 - accuracy: 0.9998\n",
      "Epoch 69/100\n",
      "62/62 [==============================] - 1s 15ms/step - loss: 0.0040 - accuracy: 0.9998\n",
      "Epoch 70/100\n",
      "62/62 [==============================] - 1s 15ms/step - loss: 0.0047 - accuracy: 0.9997\n",
      "Epoch 71/100\n",
      "62/62 [==============================] - 1s 16ms/step - loss: 0.0044 - accuracy: 0.9997\n",
      "Epoch 72/100\n",
      "62/62 [==============================] - 1s 15ms/step - loss: 0.0047 - accuracy: 0.9997\n",
      "Epoch 73/100\n",
      "62/62 [==============================] - 1s 15ms/step - loss: 0.0020 - accuracy: 0.9998\n",
      "Epoch 74/100\n",
      "62/62 [==============================] - 1s 15ms/step - loss: 0.0045 - accuracy: 0.9997\n",
      "Epoch 75/100\n",
      "62/62 [==============================] - 1s 15ms/step - loss: 0.0042 - accuracy: 0.9997\n",
      "Epoch 76/100\n",
      "62/62 [==============================] - 1s 16ms/step - loss: 0.0044 - accuracy: 0.9997\n",
      "Epoch 77/100\n",
      "62/62 [==============================] - 1s 15ms/step - loss: 0.0045 - accuracy: 0.9997\n",
      "Epoch 78/100\n",
      "62/62 [==============================] - 1s 15ms/step - loss: 0.0058 - accuracy: 0.9992\n",
      "Epoch 79/100\n",
      "62/62 [==============================] - 1s 15ms/step - loss: 0.6563 - accuracy: 0.8151\n",
      "Epoch 80/100\n",
      "62/62 [==============================] - 1s 14ms/step - loss: 0.3896 - accuracy: 0.8766\n",
      "Epoch 81/100\n"
     ]
    },
    {
     "name": "stdout",
     "output_type": "stream",
     "text": [
      "62/62 [==============================] - 1s 15ms/step - loss: 0.1174 - accuracy: 0.9654\n",
      "Epoch 82/100\n",
      "62/62 [==============================] - 1s 14ms/step - loss: 0.0672 - accuracy: 0.9811\n",
      "Epoch 83/100\n",
      "62/62 [==============================] - 1s 14ms/step - loss: 0.0218 - accuracy: 0.9959\n",
      "Epoch 84/100\n",
      "62/62 [==============================] - 1s 14ms/step - loss: 0.0081 - accuracy: 0.9995\n",
      "Epoch 85/100\n",
      "62/62 [==============================] - 1s 14ms/step - loss: 0.0043 - accuracy: 0.9997\n",
      "Epoch 86/100\n",
      "62/62 [==============================] - 1s 14ms/step - loss: 0.0030 - accuracy: 0.9998\n",
      "Epoch 87/100\n",
      "62/62 [==============================] - 1s 14ms/step - loss: 0.0025 - accuracy: 0.9998\n",
      "Epoch 88/100\n",
      "62/62 [==============================] - 1s 14ms/step - loss: 0.0036 - accuracy: 0.9997\n",
      "Epoch 89/100\n",
      "62/62 [==============================] - 1s 15ms/step - loss: 0.0024 - accuracy: 0.9998\n",
      "Epoch 90/100\n",
      "62/62 [==============================] - 1s 14ms/step - loss: 0.0023 - accuracy: 0.9998\n",
      "Epoch 91/100\n",
      "62/62 [==============================] - 1s 15ms/step - loss: 0.0045 - accuracy: 0.9998\n",
      "Epoch 92/100\n",
      "62/62 [==============================] - 1s 14ms/step - loss: 0.0018 - accuracy: 0.9998\n",
      "Epoch 93/100\n",
      "62/62 [==============================] - 1s 14ms/step - loss: 0.0023 - accuracy: 0.9998\n",
      "Epoch 94/100\n",
      "62/62 [==============================] - 1s 14ms/step - loss: 0.0035 - accuracy: 0.9997\n",
      "Epoch 95/100\n",
      "62/62 [==============================] - 1s 15ms/step - loss: 0.0021 - accuracy: 0.9998\n",
      "Epoch 96/100\n",
      "62/62 [==============================] - 1s 15ms/step - loss: 0.0029 - accuracy: 0.9997\n",
      "Epoch 97/100\n",
      "62/62 [==============================] - 1s 14ms/step - loss: 0.0018 - accuracy: 0.9998\n",
      "Epoch 98/100\n",
      "62/62 [==============================] - 1s 14ms/step - loss: 0.0025 - accuracy: 0.9998\n",
      "Epoch 99/100\n",
      "62/62 [==============================] - 1s 15ms/step - loss: 0.0015 - accuracy: 0.9998\n",
      "Epoch 100/100\n",
      "62/62 [==============================] - 1s 14ms/step - loss: 0.0023 - accuracy: 0.9998\n"
     ]
    },
    {
     "data": {
      "text/plain": [
       "<keras.callbacks.History at 0x2350793f400>"
      ]
     },
     "execution_count": 23,
     "metadata": {},
     "output_type": "execute_result"
    }
   ],
   "source": [
    "dirty_model.fit(x_train, y_train, epochs=100, batch_size=100)"
   ]
  },
  {
   "cell_type": "markdown",
   "id": "incident-certificate",
   "metadata": {},
   "source": [
    "## Insights\n",
    "\n",
    "Our model reaches 99% accuracy very quick which looks very promising for the training data, but we cannot give a judgement without evaulating it on our cross-validation data. Let us now evaluate our dirty model."
   ]
  },
  {
   "cell_type": "code",
   "execution_count": 24,
   "id": "covered-serve",
   "metadata": {},
   "outputs": [
    {
     "name": "stdout",
     "output_type": "stream",
     "text": [
      "32/32 [==============================] - 0s 6ms/step - loss: 6.7689 - accuracy: 0.3490\n"
     ]
    },
    {
     "data": {
      "text/plain": [
       "[6.768937110900879, 0.3490196168422699]"
      ]
     },
     "execution_count": 24,
     "metadata": {},
     "output_type": "execute_result"
    }
   ],
   "source": [
    "dirty_model.evaluate(x_cross_valid, y_cross_valid)"
   ]
  },
  {
   "cell_type": "markdown",
   "id": "working-professional",
   "metadata": {},
   "source": [
    "The accuracy on the cross-validation data comes out to be 34% which is not at all good. This means that we are overfitting our training data. Some of the things that we can do to improve this overfitting our -\n",
    "\n",
    "1. Simplifying our network architecture.\n",
    "2. Using regularization in the form of drop-outs\n",
    "3. Using data augmentation."
   ]
  },
  {
   "cell_type": "markdown",
   "id": "committed-comedy",
   "metadata": {},
   "source": [
    "## A better approach\n",
    "\n",
    "Now that we know that our model is working and is working good on the test data but not on the cross-validation data, let us build another model with a few drop out layers."
   ]
  },
  {
   "cell_type": "code",
   "execution_count": 25,
   "id": "supposed-bunch",
   "metadata": {},
   "outputs": [],
   "source": [
    "better_model = Sequential([\n",
    "    # a convulation layer with 8 3X3 filters, relu activation and same padding followed by a max pooling layer\n",
    "    layers.Conv2D(filters=8, kernel_size=(3, 3), activation='relu', padding='same'),\n",
    "    layers.MaxPooling2D(),\n",
    "    \n",
    "    # a convulation layer with 16 3X3 filters, relu activation and same padding followed by a max pooling layer\n",
    "    layers.Conv2D(filters=16, kernel_size=(3, 3), activation='relu', padding='same'),\n",
    "    layers.MaxPooling2D(),\n",
    "    \n",
    "    # a convulation layer with 32 3X3 filters, relu activation and same padding followed by a max pooling layer\n",
    "    layers.Conv2D(filters=32, kernel_size=(3, 3), activation='relu', padding='same'),\n",
    "    layers.MaxPooling2D(),\n",
    "    \n",
    "    layers.Flatten(),\n",
    "    \n",
    "    # a dense neural network layer with 64 neurons and relu activation, followed by a dropout layer\n",
    "    layers.Dense(256, activation='relu'),\n",
    "    layers.Dropout(0.2),\n",
    "    \n",
    "    # a dense neural network layer with 128 neurons and relu activation, followed by a dropout layer    \n",
    "    layers.Dense(128, activation='relu'),\n",
    "    \n",
    "    layers.Dense(102, activation=\"softmax\")\n",
    "])"
   ]
  },
  {
   "cell_type": "markdown",
   "id": "middle-grocery",
   "metadata": {},
   "source": [
    "compiling the model with same configurations."
   ]
  },
  {
   "cell_type": "code",
   "execution_count": 26,
   "id": "facial-enzyme",
   "metadata": {},
   "outputs": [],
   "source": [
    "better_model.compile(\n",
    "    optimizer=keras.optimizers.Adam(),\n",
    "    loss=keras.losses.SparseCategoricalCrossentropy(),\n",
    "    metrics=['accuracy']\n",
    ")"
   ]
  },
  {
   "cell_type": "markdown",
   "id": "posted-solid",
   "metadata": {},
   "source": [
    "Fitting the training dataset on our model and running it for 100 epochs with a batch size of 100."
   ]
  },
  {
   "cell_type": "code",
   "execution_count": 27,
   "id": "accessory-rental",
   "metadata": {
    "scrolled": false,
    "tags": [
     "outputPrepend"
    ]
   },
   "outputs": [
    {
     "name": "stdout",
     "output_type": "stream",
     "text": [
      "Epoch 1/100\n",
      "62/62 [==============================] - 2s 17ms/step - loss: 4.3415 - accuracy: 0.0527\n",
      "Epoch 2/100\n",
      "62/62 [==============================] - 1s 15ms/step - loss: 3.8107 - accuracy: 0.1093\n",
      "Epoch 3/100\n",
      "62/62 [==============================] - 1s 15ms/step - loss: 3.4087 - accuracy: 0.1647\n",
      "Epoch 4/100\n",
      "62/62 [==============================] - 1s 15ms/step - loss: 3.1157 - accuracy: 0.2213\n",
      "Epoch 5/100\n",
      "62/62 [==============================] - 1s 15ms/step - loss: 2.8614 - accuracy: 0.2703\n",
      "Epoch 6/100\n",
      "62/62 [==============================] - 1s 15ms/step - loss: 2.6699 - accuracy: 0.3080\n",
      "Epoch 7/100\n",
      "62/62 [==============================] - 1s 15ms/step - loss: 2.4821 - accuracy: 0.3570\n",
      "Epoch 8/100\n",
      "62/62 [==============================] - 1s 15ms/step - loss: 2.3448 - accuracy: 0.3819\n",
      "Epoch 9/100\n",
      "62/62 [==============================] - 1s 15ms/step - loss: 2.1956 - accuracy: 0.4114\n",
      "Epoch 10/100\n",
      "62/62 [==============================] - 1s 15ms/step - loss: 2.0622 - accuracy: 0.4331\n",
      "Epoch 11/100\n",
      "62/62 [==============================] - 1s 15ms/step - loss: 1.9511 - accuracy: 0.4645\n",
      "Epoch 12/100\n",
      "62/62 [==============================] - 1s 15ms/step - loss: 1.8338 - accuracy: 0.4863\n",
      "Epoch 13/100\n",
      "62/62 [==============================] - 1s 15ms/step - loss: 1.6900 - accuracy: 0.5217\n",
      "Epoch 14/100\n",
      "62/62 [==============================] - 1s 15ms/step - loss: 1.5679 - accuracy: 0.5529\n",
      "Epoch 15/100\n",
      "62/62 [==============================] - 1s 15ms/step - loss: 1.4937 - accuracy: 0.5764\n",
      "Epoch 16/100\n",
      "62/62 [==============================] - 1s 15ms/step - loss: 1.3921 - accuracy: 0.6012\n",
      "Epoch 17/100\n",
      "62/62 [==============================] - 1s 15ms/step - loss: 1.2860 - accuracy: 0.6295\n",
      "Epoch 18/100\n",
      "62/62 [==============================] - 1s 15ms/step - loss: 1.1724 - accuracy: 0.6560\n",
      "Epoch 19/100\n",
      "62/62 [==============================] - 1s 15ms/step - loss: 1.0900 - accuracy: 0.6723\n",
      "Epoch 20/100\n",
      "62/62 [==============================] - 1s 15ms/step - loss: 1.0263 - accuracy: 0.6939\n",
      "Epoch 21/100\n",
      "62/62 [==============================] - 1s 15ms/step - loss: 0.9472 - accuracy: 0.7167\n",
      "Epoch 22/100\n",
      "62/62 [==============================] - 1s 15ms/step - loss: 0.9082 - accuracy: 0.7253\n",
      "Epoch 23/100\n",
      "62/62 [==============================] - 1s 16ms/step - loss: 0.8158 - accuracy: 0.7557\n",
      "Epoch 24/100\n",
      "62/62 [==============================] - 1s 15ms/step - loss: 0.7244 - accuracy: 0.7826\n",
      "Epoch 25/100\n",
      "62/62 [==============================] - 1s 15ms/step - loss: 0.6815 - accuracy: 0.7920\n",
      "Epoch 26/100\n",
      "62/62 [==============================] - 1s 15ms/step - loss: 0.6773 - accuracy: 0.7879\n",
      "Epoch 27/100\n",
      "62/62 [==============================] - 1s 16ms/step - loss: 0.6149 - accuracy: 0.8099\n",
      "Epoch 28/100\n",
      "62/62 [==============================] - 1s 15ms/step - loss: 0.5469 - accuracy: 0.8262\n",
      "Epoch 29/100\n",
      "62/62 [==============================] - 1s 15ms/step - loss: 0.5087 - accuracy: 0.8409\n",
      "Epoch 30/100\n",
      "62/62 [==============================] - 1s 15ms/step - loss: 0.4961 - accuracy: 0.8465\n",
      "Epoch 31/100\n",
      "62/62 [==============================] - 1s 15ms/step - loss: 0.4467 - accuracy: 0.8574\n",
      "Epoch 32/100\n",
      "62/62 [==============================] - 1s 15ms/step - loss: 0.4116 - accuracy: 0.8662\n",
      "Epoch 33/100\n",
      "62/62 [==============================] - 1s 16ms/step - loss: 0.3709 - accuracy: 0.8797\n",
      "Epoch 34/100\n",
      "62/62 [==============================] - 1s 15ms/step - loss: 0.3787 - accuracy: 0.8784\n",
      "Epoch 35/100\n",
      "62/62 [==============================] - 1s 15ms/step - loss: 0.3590 - accuracy: 0.8876\n",
      "Epoch 36/100\n",
      "62/62 [==============================] - 1s 16ms/step - loss: 0.3440 - accuracy: 0.8871\n",
      "Epoch 37/100\n",
      "62/62 [==============================] - 1s 15ms/step - loss: 0.3293 - accuracy: 0.8951\n",
      "Epoch 38/100\n",
      "62/62 [==============================] - 1s 15ms/step - loss: 0.3173 - accuracy: 0.8995\n",
      "Epoch 39/100\n",
      "62/62 [==============================] - 1s 15ms/step - loss: 0.2877 - accuracy: 0.9093\n",
      "Epoch 40/100\n",
      "62/62 [==============================] - 1s 15ms/step - loss: 0.2677 - accuracy: 0.9167\n",
      "Epoch 41/100\n",
      "62/62 [==============================] - 1s 15ms/step - loss: 0.2457 - accuracy: 0.9218\n",
      "Epoch 42/100\n",
      "62/62 [==============================] - 1s 16ms/step - loss: 0.2565 - accuracy: 0.9143\n",
      "Epoch 43/100\n",
      "62/62 [==============================] - 1s 15ms/step - loss: 0.2620 - accuracy: 0.9154\n",
      "Epoch 44/100\n",
      "62/62 [==============================] - 1s 15ms/step - loss: 0.2603 - accuracy: 0.9125\n",
      "Epoch 45/100\n",
      "62/62 [==============================] - 1s 15ms/step - loss: 0.2111 - accuracy: 0.9325\n",
      "Epoch 46/100\n",
      "62/62 [==============================] - 1s 15ms/step - loss: 0.2296 - accuracy: 0.9250\n",
      "Epoch 47/100\n",
      "62/62 [==============================] - 1s 16ms/step - loss: 0.2290 - accuracy: 0.9268\n",
      "Epoch 48/100\n",
      "62/62 [==============================] - 1s 16ms/step - loss: 0.2319 - accuracy: 0.9218\n",
      "Epoch 49/100\n",
      "62/62 [==============================] - 1s 15ms/step - loss: 0.2018 - accuracy: 0.9358\n",
      "Epoch 50/100\n",
      "62/62 [==============================] - 1s 16ms/step - loss: 0.2065 - accuracy: 0.9330\n",
      "Epoch 51/100\n",
      "62/62 [==============================] - 1s 15ms/step - loss: 0.1993 - accuracy: 0.9341\n",
      "Epoch 52/100\n",
      "62/62 [==============================] - 1s 15ms/step - loss: 0.1847 - accuracy: 0.9374\n",
      "Epoch 53/100\n",
      "62/62 [==============================] - 1s 16ms/step - loss: 0.2032 - accuracy: 0.9376\n",
      "Epoch 54/100\n",
      "62/62 [==============================] - 1s 16ms/step - loss: 0.2005 - accuracy: 0.9384\n",
      "Epoch 55/100\n",
      "62/62 [==============================] - 1s 15ms/step - loss: 0.1632 - accuracy: 0.9478\n",
      "Epoch 56/100\n",
      "62/62 [==============================] - 1s 15ms/step - loss: 0.1679 - accuracy: 0.9471\n",
      "Epoch 57/100\n",
      "62/62 [==============================] - 1s 15ms/step - loss: 0.1848 - accuracy: 0.9392\n",
      "Epoch 58/100\n",
      "62/62 [==============================] - 1s 15ms/step - loss: 0.1590 - accuracy: 0.9476\n",
      "Epoch 59/100\n",
      "62/62 [==============================] - 1s 15ms/step - loss: 0.1497 - accuracy: 0.9517\n",
      "Epoch 60/100\n",
      "62/62 [==============================] - 1s 15ms/step - loss: 0.1626 - accuracy: 0.9478\n",
      "Epoch 61/100\n",
      "62/62 [==============================] - 1s 15ms/step - loss: 0.1889 - accuracy: 0.9382\n",
      "Epoch 62/100\n",
      "62/62 [==============================] - 1s 15ms/step - loss: 0.1618 - accuracy: 0.9475\n",
      "Epoch 63/100\n",
      "62/62 [==============================] - 1s 15ms/step - loss: 0.1652 - accuracy: 0.9475\n",
      "Epoch 64/100\n",
      "62/62 [==============================] - 1s 15ms/step - loss: 0.1491 - accuracy: 0.9528\n",
      "Epoch 65/100\n",
      "62/62 [==============================] - 1s 15ms/step - loss: 0.1419 - accuracy: 0.9541\n",
      "Epoch 66/100\n",
      "62/62 [==============================] - 1s 15ms/step - loss: 0.1244 - accuracy: 0.9595\n",
      "Epoch 67/100\n",
      "62/62 [==============================] - 1s 15ms/step - loss: 0.1478 - accuracy: 0.9530\n",
      "Epoch 68/100\n",
      "62/62 [==============================] - 1s 15ms/step - loss: 0.1220 - accuracy: 0.9623\n",
      "Epoch 69/100\n",
      "62/62 [==============================] - 1s 15ms/step - loss: 0.1337 - accuracy: 0.9590\n",
      "Epoch 70/100\n",
      "62/62 [==============================] - 1s 16ms/step - loss: 0.1184 - accuracy: 0.9615\n",
      "Epoch 71/100\n",
      "62/62 [==============================] - 1s 16ms/step - loss: 0.1559 - accuracy: 0.9486\n",
      "Epoch 72/100\n",
      "62/62 [==============================] - 1s 15ms/step - loss: 0.1457 - accuracy: 0.9499\n",
      "Epoch 73/100\n",
      "62/62 [==============================] - 1s 15ms/step - loss: 0.1385 - accuracy: 0.9540\n",
      "Epoch 74/100\n",
      "62/62 [==============================] - 1s 16ms/step - loss: 0.1240 - accuracy: 0.9608\n",
      "Epoch 75/100\n",
      "62/62 [==============================] - 1s 15ms/step - loss: 0.1258 - accuracy: 0.9566\n",
      "Epoch 76/100\n",
      "62/62 [==============================] - 1s 15ms/step - loss: 0.1301 - accuracy: 0.9572\n",
      "Epoch 77/100\n",
      "62/62 [==============================] - 1s 15ms/step - loss: 0.1368 - accuracy: 0.9546\n",
      "Epoch 78/100\n",
      "62/62 [==============================] - 1s 15ms/step - loss: 0.1319 - accuracy: 0.9569\n",
      "Epoch 79/100\n",
      "62/62 [==============================] - 1s 15ms/step - loss: 0.1150 - accuracy: 0.9634\n",
      "Epoch 80/100\n",
      "62/62 [==============================] - 1s 15ms/step - loss: 0.1048 - accuracy: 0.9652\n",
      "Epoch 81/100\n",
      "62/62 [==============================] - 1s 16ms/step - loss: 0.1076 - accuracy: 0.9655\n",
      "Epoch 82/100\n"
     ]
    },
    {
     "name": "stdout",
     "output_type": "stream",
     "text": [
      "62/62 [==============================] - 1s 15ms/step - loss: 0.1237 - accuracy: 0.9587\n",
      "Epoch 83/100\n",
      "62/62 [==============================] - 1s 16ms/step - loss: 0.1253 - accuracy: 0.9608\n",
      "Epoch 84/100\n",
      "62/62 [==============================] - 1s 15ms/step - loss: 0.1181 - accuracy: 0.9603\n",
      "Epoch 85/100\n",
      "62/62 [==============================] - 1s 15ms/step - loss: 0.1329 - accuracy: 0.9577\n",
      "Epoch 86/100\n",
      "62/62 [==============================] - 1s 15ms/step - loss: 0.1227 - accuracy: 0.9606\n",
      "Epoch 87/100\n",
      "62/62 [==============================] - 1s 15ms/step - loss: 0.1107 - accuracy: 0.9629\n",
      "Epoch 88/100\n",
      "62/62 [==============================] - 1s 15ms/step - loss: 0.1035 - accuracy: 0.9667\n",
      "Epoch 89/100\n",
      "62/62 [==============================] - 1s 15ms/step - loss: 0.1053 - accuracy: 0.9657\n",
      "Epoch 90/100\n",
      "62/62 [==============================] - 1s 15ms/step - loss: 0.0897 - accuracy: 0.9701\n",
      "Epoch 91/100\n",
      "62/62 [==============================] - 1s 15ms/step - loss: 0.1177 - accuracy: 0.9639\n",
      "Epoch 92/100\n",
      "62/62 [==============================] - 1s 15ms/step - loss: 0.1212 - accuracy: 0.9590\n",
      "Epoch 93/100\n",
      "62/62 [==============================] - 1s 15ms/step - loss: 0.1335 - accuracy: 0.9564\n",
      "Epoch 94/100\n",
      "62/62 [==============================] - 1s 15ms/step - loss: 0.1099 - accuracy: 0.9647\n",
      "Epoch 95/100\n",
      "62/62 [==============================] - 1s 15ms/step - loss: 0.1025 - accuracy: 0.9667\n",
      "Epoch 96/100\n",
      "62/62 [==============================] - 1s 15ms/step - loss: 0.1079 - accuracy: 0.9655\n",
      "Epoch 97/100\n",
      "62/62 [==============================] - 1s 15ms/step - loss: 0.0843 - accuracy: 0.9732\n",
      "Epoch 98/100\n",
      "62/62 [==============================] - 1s 15ms/step - loss: 0.0907 - accuracy: 0.9702\n",
      "Epoch 99/100\n",
      "62/62 [==============================] - 1s 15ms/step - loss: 0.1035 - accuracy: 0.9665\n",
      "Epoch 100/100\n",
      "62/62 [==============================] - 1s 15ms/step - loss: 0.1088 - accuracy: 0.9623\n"
     ]
    },
    {
     "data": {
      "text/plain": [
       "<keras.callbacks.History at 0x2350a238a60>"
      ]
     },
     "execution_count": 27,
     "metadata": {},
     "output_type": "execute_result"
    }
   ],
   "source": [
    "better_model.fit(x_train, y_train, epochs=100, batch_size=100)"
   ]
  },
  {
   "cell_type": "markdown",
   "id": "greek-affiliation",
   "metadata": {},
   "source": [
    "## Insights\n",
    "\n"
   ]
  },
  {
   "cell_type": "markdown",
   "id": "recreational-project",
   "metadata": {},
   "source": [
    "We can see that the evaluation accuracy is still not good but is greater than the one we got in our dirty model. I tried a lot of combinations of hyperparameters, different architectures, different dropouts, different epochs but I still couldn't get accuracy > 50% after adding dropouts."
   ]
  },
  {
   "cell_type": "code",
   "execution_count": 28,
   "id": "applicable-perception",
   "metadata": {},
   "outputs": [
    {
     "name": "stdout",
     "output_type": "stream",
     "text": [
      "32/32 [==============================] - 0s 5ms/step - loss: 4.4875 - accuracy: 0.4137\n"
     ]
    },
    {
     "data": {
      "text/plain": [
       "[4.487522125244141, 0.41372549533843994]"
      ]
     },
     "execution_count": 28,
     "metadata": {},
     "output_type": "execute_result"
    }
   ],
   "source": [
    "better_model.evaluate(x_cross_valid, y_cross_valid)"
   ]
  },
  {
   "cell_type": "markdown",
   "id": "surprised-stuff",
   "metadata": {},
   "source": [
    "Now let us try to use data augmentation, which will take care of different orientations, contrasts and zoooming properties of the dataset."
   ]
  },
  {
   "cell_type": "markdown",
   "id": "norwegian-discrimination",
   "metadata": {},
   "source": [
    "## An even better model\n",
    "\n",
    "Now that we know that our model is still overfitting the data, we try to augment the available data to prepare the model for augmented data coming through the cross-validation dataset. "
   ]
  },
  {
   "cell_type": "code",
   "execution_count": 29,
   "id": "stainless-hello",
   "metadata": {},
   "outputs": [],
   "source": [
    "data_augmentation = Sequential(\n",
    "  [\n",
    "    # adding random contrast, rotation and zoom\n",
    "    layers.RandomContrast(0.2),\n",
    "    layers.RandomRotation(0.4),\n",
    "    layers.RandomZoom(0.2),\n",
    "  ]\n",
    ")"
   ]
  },
  {
   "cell_type": "markdown",
   "id": "composed-humidity",
   "metadata": {},
   "source": [
    "## Creating the model"
   ]
  },
  {
   "cell_type": "code",
   "execution_count": 30,
   "id": "injured-skill",
   "metadata": {},
   "outputs": [],
   "source": [
    "model = Sequential([\n",
    "    \n",
    "    # passing the data augmentation layer first\n",
    "    data_augmentation,\n",
    "    # a convulation layer with 16 3X3 filters, relu activation and same padding followed by a max pooling layer\n",
    "    layers.Conv2D(filters=16, kernel_size=(3, 3), activation='relu', padding='same'),\n",
    "    layers.MaxPooling2D(),\n",
    "    \n",
    "    # a convulation layer with 32 3X3 filters, relu activation and same padding followed by a max pooling layer\n",
    "    layers.Conv2D(filters=32, kernel_size=(3, 3), activation='relu', padding='same'),\n",
    "    layers.MaxPooling2D(),\n",
    "    \n",
    "    # a convulation layer with 64 3X3 filters, relu activation and same padding followed by a max pooling layer\n",
    "    layers.Conv2D(filters=64, kernel_size=(3, 3), activation='relu', padding='same'),\n",
    "    layers.MaxPooling2D(),\n",
    "    \n",
    "    # flattening the obtained array for ANN\n",
    "    layers.Flatten(),\n",
    "    \n",
    "    # a dense neural network layer with 512 neurons and relu activation\n",
    "    layers.Dense(512, activation='relu'),\n",
    "    layers.Dropout(0.2),\n",
    "    \n",
    "    # a dense neural network layer with 512 neurons and relu activation\n",
    "    layers.Dense(512, activation='relu'),\n",
    "    layers.Dropout(0.2),\n",
    "    \n",
    "    # a dense neural network layer with 512 neurons and relu activation\n",
    "    layers.Dense(512, activation='relu'),\n",
    "    layers.Dropout(0.2),\n",
    "    \n",
    "    # a dense output layer with 102 neurons (for 102 classes) and softmax activation\n",
    "    layers.Dense(102, activation=\"softmax\")\n",
    "])"
   ]
  },
  {
   "cell_type": "code",
   "execution_count": 31,
   "id": "boxed-cisco",
   "metadata": {},
   "outputs": [],
   "source": [
    "model.compile(\n",
    "    optimizer=keras.optimizers.Adam(),\n",
    "    loss=keras.losses.SparseCategoricalCrossentropy(),\n",
    "    metrics=['accuracy']\n",
    ")"
   ]
  },
  {
   "cell_type": "code",
   "execution_count": 32,
   "id": "optional-boards",
   "metadata": {
    "tags": [
     "outputPrepend"
    ]
   },
   "outputs": [
    {
     "name": "stdout",
     "output_type": "stream",
     "text": [
      "Epoch 1/100\n",
      "62/62 [==============================] - 6s 23ms/step - loss: 4.2461 - accuracy: 0.0542\n",
      "Epoch 2/100\n",
      "62/62 [==============================] - 1s 19ms/step - loss: 3.6861 - accuracy: 0.1075\n",
      "Epoch 3/100\n",
      "62/62 [==============================] - 1s 19ms/step - loss: 3.3770 - accuracy: 0.1538\n",
      "Epoch 4/100\n",
      "62/62 [==============================] - 1s 19ms/step - loss: 3.1520 - accuracy: 0.1909\n",
      "Epoch 5/100\n",
      "62/62 [==============================] - 1s 19ms/step - loss: 2.9785 - accuracy: 0.2207\n",
      "Epoch 6/100\n",
      "62/62 [==============================] - 1s 19ms/step - loss: 2.8440 - accuracy: 0.2472\n",
      "Epoch 7/100\n",
      "62/62 [==============================] - 1s 19ms/step - loss: 2.7283 - accuracy: 0.2701\n",
      "Epoch 8/100\n",
      "62/62 [==============================] - 1s 19ms/step - loss: 2.6668 - accuracy: 0.2874\n",
      "Epoch 9/100\n",
      "62/62 [==============================] - 1s 19ms/step - loss: 2.5661 - accuracy: 0.3069\n",
      "Epoch 10/100\n",
      "62/62 [==============================] - 1s 19ms/step - loss: 2.4514 - accuracy: 0.3318\n",
      "Epoch 11/100\n",
      "62/62 [==============================] - 1s 19ms/step - loss: 2.3890 - accuracy: 0.3531\n",
      "Epoch 12/100\n",
      "62/62 [==============================] - 1s 19ms/step - loss: 2.2871 - accuracy: 0.3659\n",
      "Epoch 13/100\n",
      "62/62 [==============================] - 1s 19ms/step - loss: 2.2283 - accuracy: 0.3864\n",
      "Epoch 14/100\n",
      "62/62 [==============================] - 1s 19ms/step - loss: 2.1352 - accuracy: 0.4028\n",
      "Epoch 15/100\n",
      "62/62 [==============================] - 1s 19ms/step - loss: 2.0868 - accuracy: 0.4181\n",
      "Epoch 16/100\n",
      "62/62 [==============================] - 1s 19ms/step - loss: 2.0222 - accuracy: 0.4404\n",
      "Epoch 17/100\n",
      "62/62 [==============================] - 1s 19ms/step - loss: 1.9084 - accuracy: 0.4706\n",
      "Epoch 18/100\n",
      "62/62 [==============================] - 1s 19ms/step - loss: 1.8711 - accuracy: 0.4736\n",
      "Epoch 19/100\n",
      "62/62 [==============================] - 1s 19ms/step - loss: 1.8339 - accuracy: 0.4887\n",
      "Epoch 20/100\n",
      "62/62 [==============================] - 1s 19ms/step - loss: 1.7763 - accuracy: 0.4944\n",
      "Epoch 21/100\n",
      "62/62 [==============================] - 1s 19ms/step - loss: 1.7162 - accuracy: 0.5128\n",
      "Epoch 22/100\n",
      "62/62 [==============================] - 1s 19ms/step - loss: 1.6838 - accuracy: 0.5162\n",
      "Epoch 23/100\n",
      "62/62 [==============================] - 1s 19ms/step - loss: 1.6140 - accuracy: 0.5367\n",
      "Epoch 24/100\n",
      "62/62 [==============================] - 1s 19ms/step - loss: 1.5965 - accuracy: 0.5398\n",
      "Epoch 25/100\n",
      "62/62 [==============================] - 1s 19ms/step - loss: 1.5492 - accuracy: 0.5487\n",
      "Epoch 26/100\n",
      "62/62 [==============================] - 1s 19ms/step - loss: 1.5129 - accuracy: 0.5593\n",
      "Epoch 27/100\n",
      "62/62 [==============================] - 1s 19ms/step - loss: 1.4635 - accuracy: 0.5746\n",
      "Epoch 28/100\n",
      "62/62 [==============================] - 1s 20ms/step - loss: 1.4533 - accuracy: 0.5764\n",
      "Epoch 29/100\n",
      "62/62 [==============================] - 1s 19ms/step - loss: 1.4001 - accuracy: 0.5890\n",
      "Epoch 30/100\n",
      "62/62 [==============================] - 1s 20ms/step - loss: 1.3638 - accuracy: 0.5947\n",
      "Epoch 31/100\n",
      "62/62 [==============================] - 1s 21ms/step - loss: 1.3520 - accuracy: 0.5972\n",
      "Epoch 32/100\n",
      "62/62 [==============================] - 1s 19ms/step - loss: 1.2997 - accuracy: 0.6035\n",
      "Epoch 33/100\n",
      "62/62 [==============================] - 1s 19ms/step - loss: 1.2416 - accuracy: 0.6287\n",
      "Epoch 34/100\n",
      "62/62 [==============================] - 1s 19ms/step - loss: 1.2588 - accuracy: 0.6250\n",
      "Epoch 35/100\n",
      "62/62 [==============================] - 1s 20ms/step - loss: 1.2093 - accuracy: 0.6347\n",
      "Epoch 36/100\n",
      "62/62 [==============================] - 1s 21ms/step - loss: 1.1618 - accuracy: 0.6539\n",
      "Epoch 37/100\n",
      "62/62 [==============================] - 1s 21ms/step - loss: 1.1277 - accuracy: 0.6580\n",
      "Epoch 38/100\n",
      "62/62 [==============================] - 1s 21ms/step - loss: 1.1281 - accuracy: 0.6575\n",
      "Epoch 39/100\n",
      "62/62 [==============================] - 1s 19ms/step - loss: 1.1087 - accuracy: 0.6588\n",
      "Epoch 40/100\n",
      "62/62 [==============================] - 1s 19ms/step - loss: 1.1171 - accuracy: 0.6650\n",
      "Epoch 41/100\n",
      "62/62 [==============================] - 1s 19ms/step - loss: 1.0417 - accuracy: 0.6827\n",
      "Epoch 42/100\n",
      "62/62 [==============================] - 1s 20ms/step - loss: 1.0194 - accuracy: 0.6952\n",
      "Epoch 43/100\n",
      "62/62 [==============================] - 1s 21ms/step - loss: 1.0270 - accuracy: 0.6824\n",
      "Epoch 44/100\n",
      "62/62 [==============================] - 1s 20ms/step - loss: 1.0398 - accuracy: 0.6865\n",
      "Epoch 45/100\n",
      "62/62 [==============================] - 1s 20ms/step - loss: 0.9844 - accuracy: 0.6926\n",
      "Epoch 46/100\n",
      "62/62 [==============================] - 1s 20ms/step - loss: 0.9823 - accuracy: 0.6957\n",
      "Epoch 47/100\n",
      "62/62 [==============================] - 1s 20ms/step - loss: 0.9778 - accuracy: 0.6946\n",
      "Epoch 48/100\n",
      "62/62 [==============================] - 1s 20ms/step - loss: 0.9656 - accuracy: 0.7022\n",
      "Epoch 49/100\n",
      "62/62 [==============================] - 1s 19ms/step - loss: 0.9333 - accuracy: 0.7141\n",
      "Epoch 50/100\n",
      "62/62 [==============================] - 1s 19ms/step - loss: 0.8922 - accuracy: 0.7256\n",
      "Epoch 51/100\n",
      "62/62 [==============================] - 1s 19ms/step - loss: 0.8502 - accuracy: 0.7382\n",
      "Epoch 52/100\n",
      "62/62 [==============================] - 1s 19ms/step - loss: 0.8757 - accuracy: 0.7206\n",
      "Epoch 53/100\n",
      "62/62 [==============================] - 1s 19ms/step - loss: 0.8713 - accuracy: 0.7268\n",
      "Epoch 54/100\n",
      "62/62 [==============================] - 1s 19ms/step - loss: 0.8458 - accuracy: 0.7351\n",
      "Epoch 55/100\n",
      "62/62 [==============================] - 1s 19ms/step - loss: 0.8411 - accuracy: 0.7361\n",
      "Epoch 56/100\n",
      "62/62 [==============================] - 1s 19ms/step - loss: 0.8324 - accuracy: 0.7354\n",
      "Epoch 57/100\n",
      "62/62 [==============================] - 1s 19ms/step - loss: 0.8302 - accuracy: 0.7362\n",
      "Epoch 58/100\n",
      "62/62 [==============================] - 1s 19ms/step - loss: 0.7686 - accuracy: 0.7543\n",
      "Epoch 59/100\n",
      "62/62 [==============================] - 1s 20ms/step - loss: 0.7671 - accuracy: 0.7510\n",
      "Epoch 60/100\n",
      "62/62 [==============================] - 1s 21ms/step - loss: 0.7934 - accuracy: 0.7465\n",
      "Epoch 61/100\n",
      "62/62 [==============================] - 1s 20ms/step - loss: 0.7420 - accuracy: 0.7696\n",
      "Epoch 62/100\n",
      "62/62 [==============================] - 1s 19ms/step - loss: 0.7824 - accuracy: 0.7552\n",
      "Epoch 63/100\n",
      "62/62 [==============================] - 1s 19ms/step - loss: 0.7293 - accuracy: 0.7648\n",
      "Epoch 64/100\n",
      "62/62 [==============================] - 1s 19ms/step - loss: 0.7542 - accuracy: 0.7648\n",
      "Epoch 65/100\n",
      "62/62 [==============================] - 1s 19ms/step - loss: 0.7280 - accuracy: 0.7710\n",
      "Epoch 66/100\n",
      "62/62 [==============================] - 1s 19ms/step - loss: 0.7054 - accuracy: 0.7752 0s - loss: 0.7009 - accuracy: \n",
      "Epoch 67/100\n",
      "62/62 [==============================] - 1s 19ms/step - loss: 0.7103 - accuracy: 0.7738\n",
      "Epoch 68/100\n",
      "62/62 [==============================] - 1s 20ms/step - loss: 0.7087 - accuracy: 0.7777\n",
      "Epoch 69/100\n",
      "62/62 [==============================] - 1s 19ms/step - loss: 0.6793 - accuracy: 0.7850\n",
      "Epoch 70/100\n",
      "62/62 [==============================] - 1s 19ms/step - loss: 0.6650 - accuracy: 0.7845\n",
      "Epoch 71/100\n",
      "62/62 [==============================] - 1s 20ms/step - loss: 0.6311 - accuracy: 0.8009\n",
      "Epoch 72/100\n",
      "62/62 [==============================] - 1s 21ms/step - loss: 0.6420 - accuracy: 0.7967\n",
      "Epoch 73/100\n",
      "62/62 [==============================] - 1s 21ms/step - loss: 0.6768 - accuracy: 0.7873\n",
      "Epoch 74/100\n",
      "62/62 [==============================] - 1s 21ms/step - loss: 0.6324 - accuracy: 0.7961\n",
      "Epoch 75/100\n",
      "62/62 [==============================] - 1s 19ms/step - loss: 0.6381 - accuracy: 0.7956\n",
      "Epoch 76/100\n",
      "62/62 [==============================] - 1s 20ms/step - loss: 0.6142 - accuracy: 0.8057\n",
      "Epoch 77/100\n",
      "62/62 [==============================] - 1s 19ms/step - loss: 0.6036 - accuracy: 0.8131\n",
      "Epoch 78/100\n",
      "62/62 [==============================] - 1s 20ms/step - loss: 0.6369 - accuracy: 0.7956\n",
      "Epoch 79/100\n",
      "62/62 [==============================] - 1s 20ms/step - loss: 0.6224 - accuracy: 0.8026\n",
      "Epoch 80/100\n",
      "62/62 [==============================] - 1s 19ms/step - loss: 0.5870 - accuracy: 0.8187\n",
      "Epoch 81/100\n"
     ]
    },
    {
     "name": "stdout",
     "output_type": "stream",
     "text": [
      "62/62 [==============================] - 1s 19ms/step - loss: 0.6090 - accuracy: 0.8039\n",
      "Epoch 82/100\n",
      "62/62 [==============================] - 1s 20ms/step - loss: 0.5777 - accuracy: 0.8070\n",
      "Epoch 83/100\n",
      "62/62 [==============================] - 1s 20ms/step - loss: 0.5934 - accuracy: 0.8097\n",
      "Epoch 84/100\n",
      "62/62 [==============================] - 1s 20ms/step - loss: 0.6057 - accuracy: 0.8061\n",
      "Epoch 85/100\n",
      "62/62 [==============================] - 1s 19ms/step - loss: 0.5634 - accuracy: 0.8167\n",
      "Epoch 86/100\n",
      "62/62 [==============================] - 1s 19ms/step - loss: 0.5306 - accuracy: 0.8283\n",
      "Epoch 87/100\n",
      "62/62 [==============================] - 1s 19ms/step - loss: 0.5353 - accuracy: 0.8239\n",
      "Epoch 88/100\n",
      "62/62 [==============================] - 1s 20ms/step - loss: 0.5413 - accuracy: 0.8297\n",
      "Epoch 89/100\n",
      "62/62 [==============================] - 1s 19ms/step - loss: 0.5234 - accuracy: 0.8310\n",
      "Epoch 90/100\n",
      "62/62 [==============================] - 1s 19ms/step - loss: 0.5419 - accuracy: 0.8224\n",
      "Epoch 91/100\n",
      "62/62 [==============================] - 1s 19ms/step - loss: 0.5376 - accuracy: 0.8268\n",
      "Epoch 92/100\n",
      "62/62 [==============================] - 1s 20ms/step - loss: 0.5321 - accuracy: 0.8312\n",
      "Epoch 93/100\n",
      "62/62 [==============================] - 1s 19ms/step - loss: 0.5338 - accuracy: 0.8284\n",
      "Epoch 94/100\n",
      "62/62 [==============================] - 1s 20ms/step - loss: 0.5449 - accuracy: 0.8252\n",
      "Epoch 95/100\n",
      "62/62 [==============================] - 1s 19ms/step - loss: 0.5258 - accuracy: 0.8320\n",
      "Epoch 96/100\n",
      "62/62 [==============================] - 1s 19ms/step - loss: 0.5006 - accuracy: 0.8336\n",
      "Epoch 97/100\n",
      "62/62 [==============================] - 1s 20ms/step - loss: 0.5147 - accuracy: 0.8383\n",
      "Epoch 98/100\n",
      "62/62 [==============================] - 1s 19ms/step - loss: 0.5019 - accuracy: 0.8375\n",
      "Epoch 99/100\n",
      "62/62 [==============================] - 1s 19ms/step - loss: 0.4950 - accuracy: 0.8424\n",
      "Epoch 100/100\n",
      "62/62 [==============================] - 1s 19ms/step - loss: 0.5006 - accuracy: 0.8366\n"
     ]
    },
    {
     "data": {
      "text/plain": [
       "<keras.callbacks.History at 0x2350cb9f6d0>"
      ]
     },
     "execution_count": 32,
     "metadata": {},
     "output_type": "execute_result"
    }
   ],
   "source": [
    "model.fit(x_train, y_train, epochs=100, batch_size=100)"
   ]
  },
  {
   "cell_type": "code",
   "execution_count": 33,
   "id": "sound-solution",
   "metadata": {},
   "outputs": [
    {
     "name": "stdout",
     "output_type": "stream",
     "text": [
      "32/32 [==============================] - 0s 7ms/step - loss: 2.7316 - accuracy: 0.5422\n"
     ]
    },
    {
     "data": {
      "text/plain": [
       "[2.731625556945801, 0.5421568751335144]"
      ]
     },
     "execution_count": 33,
     "metadata": {},
     "output_type": "execute_result"
    }
   ],
   "source": [
    "model.evaluate(x_cross_valid, y_cross_valid)"
   ]
  },
  {
   "cell_type": "markdown",
   "id": "simple-romance",
   "metadata": {},
   "source": [
    "I tried a lot of configurations (more dropouts, simpler architecture, more/less filters, more augmentation etc.) but I couldn't get the accuracy > 60%. This was the first time that I trained a convulation neural network, and honestly I read about pooling and data augmentation just a day before writing this notebook."
   ]
  },
  {
   "cell_type": "markdown",
   "id": "young-interstate",
   "metadata": {},
   "source": [
    "## Evaluationg on test data"
   ]
  },
  {
   "cell_type": "code",
   "execution_count": 34,
   "id": "quarterly-large",
   "metadata": {},
   "outputs": [
    {
     "name": "stdout",
     "output_type": "stream",
     "text": [
      "32/32 [==============================] - 0s 4ms/step - loss: 2.9463 - accuracy: 0.5069\n"
     ]
    },
    {
     "data": {
      "text/plain": [
       "[2.9462838172912598, 0.5068627595901489]"
      ]
     },
     "execution_count": 34,
     "metadata": {},
     "output_type": "execute_result"
    }
   ],
   "source": [
    "model.evaluate(x_test, y_test)"
   ]
  },
  {
   "cell_type": "markdown",
   "id": "square-notion",
   "metadata": {},
   "source": [
    "## Some predictions\n",
    "\n",
    "Let us finally predict some flowers because everyone loves predicting stuff."
   ]
  },
  {
   "cell_type": "code",
   "execution_count": 35,
   "id": "unauthorized-difficulty",
   "metadata": {},
   "outputs": [],
   "source": [
    "y_pred = model.predict(x_test[40:50])"
   ]
  },
  {
   "cell_type": "code",
   "execution_count": 36,
   "id": "aging-sharp",
   "metadata": {},
   "outputs": [],
   "source": [
    "pred = [np.argmax(x) for x in y_pred]"
   ]
  },
  {
   "cell_type": "code",
   "execution_count": 37,
   "id": "asian-person",
   "metadata": {},
   "outputs": [
    {
     "data": {
      "text/plain": [
       "([69, 12, 88, 4, 75, 87, 14, 21, 81, 96],\n",
       " array([52, 12,  4,  4, 75, 79, 14, 21,  0, 35]))"
      ]
     },
     "execution_count": 37,
     "metadata": {},
     "output_type": "execute_result"
    }
   ],
   "source": [
    "pred, y_test[40:50]"
   ]
  },
  {
   "cell_type": "markdown",
   "id": "union-conclusion",
   "metadata": {},
   "source": [
    "## Some final words\n",
    "\n",
    "I actually had fun while building this notebook, and these 2 days were full of learning. I had never coded out a CNN before which now I confidently can (I knew ANNs and have worked with smaller and basic images like the MNIST dataset with ANNs). Finally, I knew a lot of optimization techniques for ANNs but I knew nothing about CNNs, and learning, and applying these techniques was very satisfying.\n",
    "\n",
    "Thanks!"
   ]
  },
  {
   "cell_type": "code",
   "execution_count": null,
   "id": "sustainable-hours",
   "metadata": {},
   "outputs": [],
   "source": []
  }
 ],
 "metadata": {
  "kernelspec": {
   "display_name": "Python 3",
   "language": "python",
   "name": "python3"
  },
  "language_info": {
   "codemirror_mode": {
    "name": "ipython",
    "version": 3
   },
   "file_extension": ".py",
   "mimetype": "text/x-python",
   "name": "python",
   "nbconvert_exporter": "python",
   "pygments_lexer": "ipython3",
   "version": "3.9.0"
  }
 },
 "nbformat": 4,
 "nbformat_minor": 5
}
